{
 "cells": [
  {
   "cell_type": "code",
   "execution_count": 1,
   "id": "d30d6764-033f-4cc7-a1ff-5fd3b1f65726",
   "metadata": {},
   "outputs": [
    {
     "name": "stdout",
     "output_type": "stream",
     "text": [
      "hello world\n"
     ]
    }
   ],
   "source": [
    "print(\"hello world\")"
   ]
  },
  {
   "cell_type": "code",
   "execution_count": 2,
   "id": "c07b7aff-5162-4f43-84db-f62ab97d5a81",
   "metadata": {},
   "outputs": [
    {
     "name": "stdout",
     "output_type": "stream",
     "text": [
      "hello world\n"
     ]
    }
   ],
   "source": [
    "print(\"hello world\")"
   ]
  },
  {
   "cell_type": "code",
   "execution_count": 3,
   "id": "94d2de47-36eb-40eb-8bea-99bdc7c02206",
   "metadata": {},
   "outputs": [
    {
     "name": "stdout",
     "output_type": "stream",
     "text": [
      "annotated-types==0.7.0\n",
      "anyio==4.11.0\n",
      "appnope==0.1.4\n",
      "argon2-cffi==25.1.0\n",
      "argon2-cffi-bindings==25.1.0\n",
      "arrow==1.4.0\n",
      "asgiref==3.10.0\n",
      "asttokens==3.0.0\n",
      "async-lru==2.0.5\n",
      "attrs==25.4.0\n",
      "babel==2.17.0\n",
      "beautifulsoup4==4.14.2\n",
      "bleach==6.3.0\n",
      "certifi==2025.10.5\n",
      "cffi==2.0.0\n",
      "charset-normalizer==3.4.4\n",
      "comm==0.2.3\n",
      "cryptography==46.0.3\n",
      "debugpy==1.8.17\n",
      "decorator==5.2.1\n",
      "defusedxml==0.7.1\n",
      "Django==5.2.7\n",
      "django-allauth==65.12.1\n",
      "executing==2.2.1\n",
      "fastjsonschema==2.21.2\n",
      "fire==0.7.1\n",
      "fqdn==1.5.1\n",
      "h11==0.16.0\n",
      "httpcore==1.0.9\n",
      "httpx==0.28.1\n",
      "idna==3.11\n",
      "inngest==0.5.11\n",
      "ipykernel==7.1.0\n",
      "ipython==9.6.0\n",
      "ipython_pygments_lexers==1.1.1\n",
      "ipywidgets==8.1.7\n",
      "isoduration==20.11.0\n",
      "jcs==0.2.1\n",
      "jedi==0.19.2\n",
      "Jinja2==3.1.6\n",
      "json5==0.12.1\n",
      "jsonpointer==3.0.0\n",
      "jsonschema==4.25.1\n",
      "jsonschema-specifications==2025.9.1\n",
      "jupyter==1.1.1\n",
      "jupyter-console==6.6.3\n",
      "jupyter-events==0.12.0\n",
      "jupyter-lsp==2.3.0\n",
      "jupyter_client==8.6.3\n",
      "jupyter_core==5.9.1\n",
      "jupyter_server==2.17.0\n",
      "jupyter_server_terminals==0.5.3\n",
      "jupyterlab==4.4.10\n",
      "jupyterlab_pygments==0.3.0\n",
      "jupyterlab_server==2.28.0\n",
      "jupyterlab_widgets==3.0.15\n",
      "lark==1.3.1\n",
      "markdown-it-py==4.0.0\n",
      "MarkupSafe==3.0.3\n",
      "matplotlib-inline==0.2.1\n",
      "mdurl==0.1.2\n",
      "mistune==3.1.4\n",
      "nbclient==0.10.2\n",
      "nbconvert==7.16.6\n",
      "nbformat==5.10.4\n",
      "nest-asyncio==1.6.0\n",
      "notebook==7.4.7\n",
      "notebook_shim==0.2.4\n",
      "oauthlib==3.3.1\n",
      "packaging==25.0\n",
      "pandocfilters==1.5.1\n",
      "parso==0.8.5\n",
      "pexpect==4.9.0\n",
      "platformdirs==4.5.0\n",
      "prometheus_client==0.23.1\n",
      "prompt_toolkit==3.0.52\n",
      "psutil==7.1.2\n",
      "ptyprocess==0.7.0\n",
      "pure_eval==0.2.3\n",
      "pycparser==2.23\n",
      "pydantic==2.12.3\n",
      "pydantic_core==2.41.4\n",
      "Pygments==2.19.2\n",
      "PyJWT==2.10.1\n",
      "python-dateutil==2.9.0.post0\n",
      "python-dotenv==1.2.1\n",
      "python-json-logger==4.0.0\n",
      "PyYAML==6.0.3\n",
      "pyzmq==27.1.0\n",
      "rav==0.1.1\n",
      "referencing==0.37.0\n",
      "requests==2.32.5\n",
      "rfc3339-validator==0.1.4\n",
      "rfc3986-validator==0.1.1\n",
      "rfc3987-syntax==1.1.0\n",
      "rich==14.2.0\n",
      "rpds-py==0.28.0\n",
      "Send2Trash==1.8.3\n",
      "setuptools==80.9.0\n",
      "six==1.17.0\n",
      "sniffio==1.3.1\n",
      "soupsieve==2.8\n",
      "sqlparse==0.5.3\n",
      "stack-data==0.6.3\n",
      "termcolor==3.2.0\n",
      "terminado==0.18.1\n",
      "tinycss2==1.4.0\n",
      "tornado==6.5.2\n",
      "traitlets==5.14.3\n",
      "typing-inspection==0.4.2\n",
      "typing_extensions==4.15.0\n",
      "tzdata==2025.2\n",
      "uri-template==1.3.0\n",
      "urllib3==2.5.0\n",
      "wcwidth==0.2.14\n",
      "webcolors==24.11.1\n",
      "webencodings==0.5.1\n",
      "websocket-client==1.9.0\n",
      "widgetsnbextension==4.0.14\n"
     ]
    }
   ],
   "source": [
    "!pip freeze"
   ]
  },
  {
   "cell_type": "code",
   "execution_count": 6,
   "id": "65232a61-09de-469a-8460-be990e39e83c",
   "metadata": {},
   "outputs": [],
   "source": [
    "import setup\n",
    "setup.init()"
   ]
  },
  {
   "cell_type": "code",
   "execution_count": 7,
   "id": "77f9fc70-d1cb-4d4a-b2bc-f76358e57cdf",
   "metadata": {},
   "outputs": [
    {
     "name": "stdout",
     "output_type": "stream",
     "text": [
      "hello world\n"
     ]
    }
   ],
   "source": [
    "print(\"hello world\")"
   ]
  },
  {
   "cell_type": "code",
   "execution_count": 9,
   "id": "c6970ad8-11c0-462e-8e01-ec15a8f3fe15",
   "metadata": {},
   "outputs": [],
   "source": [
    "from django.contrib.auth import get_user_model\n"
   ]
  },
  {
   "cell_type": "code",
   "execution_count": 12,
   "id": "42873b30-fed2-4ebe-a9d7-613748bbdfcf",
   "metadata": {},
   "outputs": [],
   "source": [
    "User = get_user_model()\n"
   ]
  },
  {
   "cell_type": "code",
   "execution_count": 14,
   "id": "074ed9f6-650f-4401-b787-e0bb9c7de133",
   "metadata": {},
   "outputs": [
    {
     "data": {
      "text/plain": [
       "<QuerySet []>"
      ]
     },
     "execution_count": 14,
     "metadata": {},
     "output_type": "execute_result"
    }
   ],
   "source": [
    "qs = User.objects.all()\n",
    "qs"
   ]
  },
  {
   "cell_type": "code",
   "execution_count": null,
   "id": "d127945a-f335-4a86-beb0-21882eff8285",
   "metadata": {},
   "outputs": [],
   "source": []
  }
 ],
 "metadata": {
  "kernelspec": {
   "display_name": "Python 3 (ipykernel)",
   "language": "python",
   "name": "python3"
  },
  "language_info": {
   "codemirror_mode": {
    "name": "ipython",
    "version": 3
   },
   "file_extension": ".py",
   "mimetype": "text/x-python",
   "name": "python",
   "nbconvert_exporter": "python",
   "pygments_lexer": "ipython3",
   "version": "3.12.6"
  }
 },
 "nbformat": 4,
 "nbformat_minor": 5
}
